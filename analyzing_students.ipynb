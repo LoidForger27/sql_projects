{
 "cells": [
  {
   "cell_type": "markdown",
   "id": "3b05e587-87e3-4bec-9511-ddaae6552ac4",
   "metadata": {},
   "source": [
    "![Illustration of silhouetted heads](mentalhealth.jpg)"
   ]
  },
  {
   "cell_type": "markdown",
   "id": "dbd633ea-2c0a-4bac-a6fe-0cc86896162b",
   "metadata": {},
   "source": [
    "Does going to university in a different country affect your mental health? A Japanese international university surveyed its students in 2018 and published a study the following year that was approved by several ethical and regulatory boards.\n",
    "\n",
    "The study found that international students have a higher risk of mental health difficulties than the general population, and that social connectedness (belonging to a social group) and acculturative stress (stress associated with joining a new culture) are predictive of depression.\n",
    "\n",
    "\n",
    "Explore the `students` data using PostgreSQL to find out if you would come to a similar conclusion for international students and see if the length of stay is a contributing factor.\n",
    "\n",
    "Here is a data description of the columns you may find helpful."
   ]
  },
  {
   "cell_type": "markdown",
   "id": "167d9c0e-7aba-4e44-99e3-679159e28970",
   "metadata": {},
   "source": [
    "| Field Name    | Description                                      |\n",
    "| ------------- | ------------------------------------------------ |\n",
    "| `inter_dom`     | Types of students (international or domestic)   |\n",
    "| `japanese_cate` | Japanese language proficiency                    |\n",
    "| `english_cate`  | English language proficiency                     |\n",
    "| `academic`      | Current academic level (undergraduate or graduate) |\n",
    "| `age`           | Current age of student                           |\n",
    "| `stay`          | Current length of stay in years                  |\n",
    "| `todep`         | Total score of depression (PHQ-9 test)           |\n",
    "| `tosc`          | Total score of social connectedness (SCS test)   |\n",
    "| `toas`          | Total score of acculturative stress (ASISS test) |"
   ]
  },
  {
   "cell_type": "markdown",
   "id": "0b3a7269-4410-439c-a9fa-ad3ad5cb8eba",
   "metadata": {},
   "source": [
    "Let's explore and analyze the _students_ data to see how the length of stay(_stay_) impacts the average mental health diagnostic scores of the International students present in the study."
   ]
  },
  {
   "cell_type": "markdown",
   "id": "ee278fc3-1d56-44a3-a937-df48e0ae0150",
   "metadata": {},
   "source": [
    "Let's check the table to clearly understand it rows and fields"
   ]
  },
  {
   "cell_type": "code",
   "execution_count": null,
   "id": "a60a4d75-634c-4965-8e01-804780e6df98",
   "metadata": {
    "customType": "sql",
    "dataFrameVariableName": "students",
    "executionCancelledAt": null,
    "executionTime": null,
    "lastExecutedAt": null,
    "lastExecutedByKernel": null,
    "lastScheduledRunId": null,
    "lastSuccessfullyExecutedCode": null,
    "outputsMetadata": {
     "0": {
      "height": 50,
      "tableState": {
       "columnVisibility": {
        "hiddenColIds": [
         "index"
        ]
       },
       "customFilter": {
        "const": {
         "type": "boolean",
         "valid": true,
         "value": true
        },
        "id": "4805ebf6-5cb5-4b52-b3d2-1c8e705b0055",
        "nodeType": "const"
       }
      },
      "type": "dataFrame"
     }
    },
    "sqlCellMode": "dataFrame",
    "sqlSource": {
     "integrationId": "89e17161-a224-4a8a-846b-0adc0fe7a4b1",
     "integrationType": "postgresql",
     "type": "integration"
    },
    "vscode": {
     "languageId": "sql"
    }
   },
   "outputs": [
    {
     "ename": "SyntaxError",
     "evalue": "invalid syntax (2982564803.py, line 1)",
     "output_type": "error",
     "traceback": [
      "  \u001b[36mCell\u001b[39m\u001b[36m \u001b[39m\u001b[32mIn[9]\u001b[39m\u001b[32m, line 1\u001b[39m\n\u001b[31m    \u001b[39m\u001b[31m-- Run this code to view the data in students\u001b[39m\n           ^\n\u001b[31mSyntaxError\u001b[39m\u001b[31m:\u001b[39m invalid syntax\n"
     ]
    }
   ],
   "source": [
    "#Run this code to view the data in students\n",
    "SELECT * \n",
    "FROM students\n",
    "LIMIT 5;"
   ]
  },
  {
   "cell_type": "markdown",
   "id": "4ac74fe6-6aa0-4b2e-ae6e-cfcc916f8e96",
   "metadata": {},
   "source": [
    "Next we will slowly creating our fields or columns piece by piece, let's start by performing the calculations. Let's find the summary statistics for each diagnostic test using aggregate functions."
   ]
  },
  {
   "cell_type": "code",
   "execution_count": 10,
   "id": "ab01f727-3ae9-491a-bf8b-6d507e7dbf15",
   "metadata": {
    "customType": "sql",
    "dataFrameVariableName": "students",
    "executionCancelledAt": null,
    "executionTime": 1077,
    "lastExecutedAt": 1757207192956,
    "lastExecutedByKernel": "801c86da-fae9-4b4f-bc1d-a34f23b20e88",
    "lastScheduledRunId": null,
    "lastSuccessfullyExecutedCode": "SELECT \n\tCOUNT(*) AS count_int, \n\tROUND(AVG(todep), 2) AS average_phq, \n\tROUND(AVG(tosc), 2) AS average_scs,\n\tROUND(AVG(toas), 2) AS average_as\nFROM students\nWHERE inter_dom = 'Inter';",
    "outputsMetadata": {
     "0": {
      "height": 50,
      "tableState": {
       "columnVisibility": {
        "hiddenColIds": [
         "index"
        ]
       },
       "customFilter": {
        "const": {
         "type": "boolean",
         "valid": true,
         "value": true
        },
        "id": "4805ebf6-5cb5-4b52-b3d2-1c8e705b0055",
        "nodeType": "const"
       }
      },
      "type": "dataFrame"
     }
    },
    "sqlCellMode": "dataFrame",
    "sqlSource": {
     "integrationId": "89e17161-a224-4a8a-846b-0adc0fe7a4b1",
     "integrationType": "postgresql",
     "type": "integration"
    },
    "vscode": {
     "languageId": "sql"
    }
   },
   "outputs": [
    {
     "ename": "IndentationError",
     "evalue": "unexpected indent (346008599.py, line 2)",
     "output_type": "error",
     "traceback": [
      "  \u001b[36mCell\u001b[39m\u001b[36m \u001b[39m\u001b[32mIn[10]\u001b[39m\u001b[32m, line 2\u001b[39m\n\u001b[31m    \u001b[39m\u001b[31mCOUNT(*) AS count_int,\u001b[39m\n    ^\n\u001b[31mIndentationError\u001b[39m\u001b[31m:\u001b[39m unexpected indent\n"
     ]
    }
   ],
   "source": [
    "SELECT \n",
    "\tCOUNT(*) AS count_int, \n",
    "\tROUND(AVG(todep), 2) AS average_phq, \n",
    "\tROUND(AVG(tosc), 2) AS average_scs,\n",
    "\tROUND(AVG(toas), 2) AS average_as\n",
    "FROM students\n",
    "WHERE inter_dom = 'Inter';"
   ]
  },
  {
   "cell_type": "markdown",
   "id": "39ef82dc-2ca2-407a-8486-2d7b343f6169",
   "metadata": {},
   "source": [
    "Since we've previously performed counts and average calculations on the data; now we need to apply the appropriate filter and group so that the calculations are done on the international student group only."
   ]
  },
  {
   "cell_type": "code",
   "execution_count": 13,
   "id": "06e203c9-b9a0-41ca-b54a-a14cb1ab6851",
   "metadata": {
    "customType": "sql",
    "dataFrameVariableName": "students",
    "executionCancelledAt": null,
    "executionTime": 1207,
    "lastExecutedAt": 1757207194163,
    "lastExecutedByKernel": "801c86da-fae9-4b4f-bc1d-a34f23b20e88",
    "lastScheduledRunId": null,
    "lastSuccessfullyExecutedCode": "SELECT \n\tstay,\n\tCOUNT(*) AS count_int, \n\tROUND(AVG(todep), 2) AS average_phq, \n\tROUND(AVG(tosc), 2) AS average_scs,\n\tROUND(AVG(toas), 2) AS average_as\nFROM students\nWHERE inter_dom = 'Inter'\nGROUP BY stay;",
    "outputsMetadata": {
     "0": {
      "height": 50,
      "tableState": {
       "customFilter": {
        "const": {
         "type": "boolean",
         "valid": true,
         "value": true
        },
        "id": "4805ebf6-5cb5-4b52-b3d2-1c8e705b0055",
        "nodeType": "const"
       }
      },
      "type": "dataFrame"
     }
    },
    "sqlCellMode": "dataFrame",
    "sqlSource": {
     "integrationId": "89e17161-a224-4a8a-846b-0adc0fe7a4b1",
     "integrationType": "postgresql",
     "type": "integration"
    },
    "vscode": {
     "languageId": "sql"
    }
   },
   "outputs": [
    {
     "ename": "IndentationError",
     "evalue": "unexpected indent (1370983785.py, line 2)",
     "output_type": "error",
     "traceback": [
      "  \u001b[36mCell\u001b[39m\u001b[36m \u001b[39m\u001b[32mIn[13]\u001b[39m\u001b[32m, line 2\u001b[39m\n\u001b[31m    \u001b[39m\u001b[31mstay,\u001b[39m\n    ^\n\u001b[31mIndentationError\u001b[39m\u001b[31m:\u001b[39m unexpected indent\n"
     ]
    }
   ],
   "source": [
    "SELECT \n",
    "\tstay,\n",
    "\tCOUNT(*) AS count_int, \n",
    "\tROUND(AVG(todep), 2) AS average_phq, \n",
    "\tROUND(AVG(tosc), 2) AS average_scs,\n",
    "\tROUND(AVG(toas), 2) AS average_as\n",
    "FROM students\n",
    "WHERE inter_dom = 'Inter'\n",
    "GROUP BY stay;"
   ]
  },
  {
   "cell_type": "markdown",
   "id": "52cb0934-f122-498e-a2a3-c2245f40bbec",
   "metadata": {},
   "source": [
    "Finally, let’s ORDER BY stay DESC to sort results by length of stay in descending order."
   ]
  },
  {
   "cell_type": "code",
   "execution_count": 27,
   "id": "4346fb1b-cfb1-4d04-83a0-9a532a7b4483",
   "metadata": {
    "customType": "sql",
    "dataFrameVariableName": "df",
    "executionCancelledAt": null,
    "executionTime": null,
    "lastExecutedAt": null,
    "lastExecutedByKernel": null,
    "lastScheduledRunId": null,
    "lastSuccessfullyExecutedCode": null,
    "outputsMetadata": {
     "0": {
      "height": 50,
      "tableState": {
       "columnVisibility": {
        "hiddenColIds": [
         "index"
        ]
       },
       "customFilter": {
        "const": {
         "type": "boolean",
         "valid": true,
         "value": true
        },
        "id": "4805ebf6-5cb5-4b52-b3d2-1c8e705b0055",
        "nodeType": "const"
       }
      },
      "type": "dataFrame"
     }
    },
    "sqlCellMode": "dataFrame",
    "sqlSource": {
     "integrationId": "89e17161-a224-4a8a-846b-0adc0fe7a4b1",
     "integrationType": "postgresql",
     "type": "integration"
    }
   },
   "outputs": [
    {
     "data": {
      "application/com.datacamp.data-table.v2+json": {
       "table": {
        "data": {
         "average_as": [
          50,
          65,
          45,
          58.67,
          91,
          87.71,
          78,
          77.67,
          72.8
         ],
         "average_phq": [
          13,
          10,
          4,
          6,
          0,
          8.57,
          9.09,
          8.28,
          7.48
         ],
         "average_scs": [
          32,
          44,
          48,
          38,
          34,
          33.93,
          37.13,
          37.08,
          38.11
         ],
         "count_int": [
          1,
          1,
          1,
          3,
          1,
          14,
          46,
          39,
          95
         ],
         "index": [
          0,
          1,
          2,
          3,
          4,
          5,
          6,
          7,
          8
         ],
         "stay": [
          10,
          8,
          7,
          6,
          5,
          4,
          3,
          2,
          1
         ]
        },
        "schema": {
         "fields": [
          {
           "name": "index",
           "type": "integer"
          },
          {
           "name": "stay",
           "type": "integer"
          },
          {
           "name": "count_int",
           "type": "integer"
          },
          {
           "name": "average_phq",
           "type": "number"
          },
          {
           "name": "average_scs",
           "type": "number"
          },
          {
           "name": "average_as",
           "type": "number"
          }
         ],
         "pandas_version": "1.4.0",
         "primaryKey": [
          "index"
         ]
        }
       },
       "total_rows": 9,
       "truncation_type": null
      },
      "text/html": [
       "<div>\n",
       "<style scoped>\n",
       "    .dataframe tbody tr th:only-of-type {\n",
       "        vertical-align: middle;\n",
       "    }\n",
       "\n",
       "    .dataframe tbody tr th {\n",
       "        vertical-align: top;\n",
       "    }\n",
       "\n",
       "    .dataframe thead th {\n",
       "        text-align: right;\n",
       "    }\n",
       "</style>\n",
       "<table border=\"1\" class=\"dataframe\">\n",
       "  <thead>\n",
       "    <tr style=\"text-align: right;\">\n",
       "      <th></th>\n",
       "      <th>stay</th>\n",
       "      <th>count_int</th>\n",
       "      <th>average_phq</th>\n",
       "      <th>average_scs</th>\n",
       "      <th>average_as</th>\n",
       "    </tr>\n",
       "  </thead>\n",
       "  <tbody>\n",
       "    <tr>\n",
       "      <th>0</th>\n",
       "      <td>10</td>\n",
       "      <td>1</td>\n",
       "      <td>13.00</td>\n",
       "      <td>32.00</td>\n",
       "      <td>50.00</td>\n",
       "    </tr>\n",
       "    <tr>\n",
       "      <th>1</th>\n",
       "      <td>8</td>\n",
       "      <td>1</td>\n",
       "      <td>10.00</td>\n",
       "      <td>44.00</td>\n",
       "      <td>65.00</td>\n",
       "    </tr>\n",
       "    <tr>\n",
       "      <th>2</th>\n",
       "      <td>7</td>\n",
       "      <td>1</td>\n",
       "      <td>4.00</td>\n",
       "      <td>48.00</td>\n",
       "      <td>45.00</td>\n",
       "    </tr>\n",
       "    <tr>\n",
       "      <th>3</th>\n",
       "      <td>6</td>\n",
       "      <td>3</td>\n",
       "      <td>6.00</td>\n",
       "      <td>38.00</td>\n",
       "      <td>58.67</td>\n",
       "    </tr>\n",
       "    <tr>\n",
       "      <th>4</th>\n",
       "      <td>5</td>\n",
       "      <td>1</td>\n",
       "      <td>0.00</td>\n",
       "      <td>34.00</td>\n",
       "      <td>91.00</td>\n",
       "    </tr>\n",
       "    <tr>\n",
       "      <th>5</th>\n",
       "      <td>4</td>\n",
       "      <td>14</td>\n",
       "      <td>8.57</td>\n",
       "      <td>33.93</td>\n",
       "      <td>87.71</td>\n",
       "    </tr>\n",
       "    <tr>\n",
       "      <th>6</th>\n",
       "      <td>3</td>\n",
       "      <td>46</td>\n",
       "      <td>9.09</td>\n",
       "      <td>37.13</td>\n",
       "      <td>78.00</td>\n",
       "    </tr>\n",
       "    <tr>\n",
       "      <th>7</th>\n",
       "      <td>2</td>\n",
       "      <td>39</td>\n",
       "      <td>8.28</td>\n",
       "      <td>37.08</td>\n",
       "      <td>77.67</td>\n",
       "    </tr>\n",
       "    <tr>\n",
       "      <th>8</th>\n",
       "      <td>1</td>\n",
       "      <td>95</td>\n",
       "      <td>7.48</td>\n",
       "      <td>38.11</td>\n",
       "      <td>72.80</td>\n",
       "    </tr>\n",
       "  </tbody>\n",
       "</table>\n",
       "</div>"
      ],
      "text/plain": [
       "   stay  count_int  average_phq  average_scs  average_as\n",
       "0    10          1        13.00        32.00       50.00\n",
       "1     8          1        10.00        44.00       65.00\n",
       "2     7          1         4.00        48.00       45.00\n",
       "3     6          3         6.00        38.00       58.67\n",
       "4     5          1         0.00        34.00       91.00\n",
       "5     4         14         8.57        33.93       87.71\n",
       "6     3         46         9.09        37.13       78.00\n",
       "7     2         39         8.28        37.08       77.67\n",
       "8     1         95         7.48        38.11       72.80"
      ]
     },
     "execution_count": 27,
     "metadata": {
      "application/com.datacamp.data-table.v2+json": {
       "status": "success"
      }
     },
     "output_type": "execute_result"
    }
   ],
   "source": [
    "SELECT \n",
    "\tstay,\n",
    "\tCOUNT(*) AS count_int, \n",
    "\tROUND(AVG(todep), 2) AS average_phq, \n",
    "\tROUND(AVG(tosc), 2) AS average_scs,\n",
    "\tROUND(AVG(toas), 2) AS average_as\n",
    "FROM students\n",
    "WHERE inter_dom = 'Inter'\n",
    "GROUP BY stay\n",
    "ORDER BY stay DESC;"
   ]
  },
  {
   "cell_type": "markdown",
   "id": "28a2a706-4f44-4557-ae6b-cf08e6d9b90a",
   "metadata": {},
   "source": [
    "## Depression risk (PHQ-9):\n",
    "\n",
    "The average PHQ scores (average_phq) are higher in the mid-to-long stays (e.g., 8–10 stay lengths have values around 10–13).\n",
    "\n",
    "Students with shorter stays (1–2) have slightly lower PHQ averages (around 7.48–8.28).\n",
    "\n",
    "This suggests that depression scores may increase with time for some students.\n",
    "\n",
    "## Social connectedness (SCS):\n",
    "\n",
    "Scores (average_scs) fluctuate but generally hover around the mid-30s to high-30s, with some very low values in longer stays (e.g., stay = 4 has 33.93).\n",
    "\n",
    "Lower SCS values reflect weaker feelings of belonging, supporting the idea that social connectedness is linked to mental health struggles.\n",
    "\n",
    "## Acculturative stress (ASISS):\n",
    "\n",
    "The AS scores (average_as) show a pattern where students with shorter stays (1–2) already report high stress (72–77), and stress remains high or even spikes for some mid-stays (e.g., 87–91 at stays 4–5).\n",
    "\n",
    "This indicates that adapting to a new culture is stressful across all groups, not just newcomers."
   ]
  },
  {
   "cell_type": "markdown",
   "id": "0dc882a4-d40e-4d0c-96ac-d776b5a97e71",
   "metadata": {},
   "source": [
    "# ✅ Conclusion:\n",
    "Based on our results, we can reasonably agree with the study: international students experience higher risks of mental health difficulties compared to general populations, and both social connectedness and acculturative stress significantly contribute to depression. Length of stay adds another dimension students often start with high stress, and their depression scores can worsen if adjustment or support is lacking."
   ]
  }
 ],
 "metadata": {
  "colab": {
   "name": "Welcome to DataCamp Workspaces.ipynb",
   "provenance": []
  },
  "kernelspec": {
   "display_name": "Python 3",
   "language": "python",
   "name": "python3"
  },
  "language_info": {
   "codemirror_mode": {
    "name": "ipython",
    "version": 3
   },
   "file_extension": ".py",
   "mimetype": "text/x-python",
   "name": "python",
   "nbconvert_exporter": "python",
   "pygments_lexer": "ipython3",
   "version": "3.11.9"
  }
 },
 "nbformat": 4,
 "nbformat_minor": 5
}
